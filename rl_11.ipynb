{
 "cells": [
  {
   "cell_type": "markdown",
   "metadata": {},
   "source": [
    "# Simple Reinforcement Learning in Tensorflow Part 1:"
   ]
  },
  {
   "cell_type": "markdown",
   "metadata": {},
   "source": [
    "## The Multi-armed bandit"
   ]
  },
  {
   "cell_type": "markdown",
   "metadata": {},
   "source": [
    "This tutorial contains a simple example of how to build a policy-gradient based agent that can solve the multi-armed bandit problem. For more information, see this Medium post.\n",
    "\n",
    "For more Reinforcement Learning algorithms, including DQN and Model-based learning in Tensorflow, see my Github repo, DeepRL-Agents."
   ]
  },
  {
   "cell_type": "code",
   "execution_count": 1,
   "metadata": {},
   "outputs": [],
   "source": [
    "import tensorflow as tf\n",
    "import numpy as np"
   ]
  },
  {
   "cell_type": "markdown",
   "metadata": {},
   "source": [
    "## The Bandits"
   ]
  },
  {
   "cell_type": "markdown",
   "metadata": {},
   "source": [
    "Here we define our bandits. For this example we are using a four-armed bandit. The pullBandit function generates a random number from a normal distribution with a mean of 0. The lower the bandit number, the more likely a positive reward will be returned. We want our agent to learn to always choose the bandit that will give that positive reward."
   ]
  },
  {
   "cell_type": "code",
   "execution_count": 22,
   "metadata": {},
   "outputs": [],
   "source": [
    "# List out our bandits. Currently bandit 4 (index#3) is set to most often provide a positive reward.\n",
    "bandits = [0.2, 0, -0.2, -0.0]\n",
    "num_bandits = len(bandits)\n",
    "\n",
    "def pullBandit(bandit):\n",
    "    # Get a random number.\n",
    "    result = np.random.randn(1)\n",
    "    if result > bandit:\n",
    "        # return a positive reward.\n",
    "        return 1\n",
    "    else:\n",
    "        # return a negative reward.\n",
    "        return -1"
   ]
  },
  {
   "cell_type": "markdown",
   "metadata": {},
   "source": [
    "## The Agent"
   ]
  },
  {
   "cell_type": "markdown",
   "metadata": {},
   "source": [
    "The code below established our simple neural agent. It consists of a set of values for each of the bandits. Each value is an estimate of the value of the return from choosing the bandit. We use a policy gradient method to update the agent by moving the value for the selected action toward the recieved reward."
   ]
  },
  {
   "cell_type": "code",
   "execution_count": 23,
   "metadata": {},
   "outputs": [],
   "source": [
    "tf.reset_default_graph()\n",
    "\n",
    "# These two lines established the feed-forward part of the network. This does the actual choosing.\n",
    "weights = tf.Variable(tf.ones((num_bandits, )))\n",
    "chosen_action = tf.argmax(weights, 0)\n",
    "\n",
    "# The next six lines establish the training proceedure. We feed the reward and chosen action into the network\n",
    "# to compute the loss, and use it to update the network.\n",
    "reward_holder = tf.placeholder(shape=(1, ), dtype=tf.float32)\n",
    "action_holder = tf.placeholder(shape=(1, ), dtype=tf.int32)\n",
    "responsible_weight = tf.slice(weights, action_holder, (1, ))\n",
    "loss = (-1.0) * tf.log(responsible_weight) * reward_holder\n",
    "optimizer = tf.train.GradientDescentOptimizer(learning_rate=0.001)\n",
    "update = optimizer.minimize(loss)"
   ]
  },
  {
   "cell_type": "markdown",
   "metadata": {},
   "source": [
    "## Training the Agent"
   ]
  },
  {
   "cell_type": "code",
   "execution_count": 24,
   "metadata": {},
   "outputs": [
    {
     "name": "stdout",
     "output_type": "stream",
     "text": [
      "Running reward for the 4 bandits: [-1.  0.  0.  0.]\n",
      "Running reward for the 4 bandits: [-3. -3. -4. -1.]\n",
      "Running reward for the 4 bandits: [-4. -3. -1. -3.]\n",
      "Running reward for the 4 bandits: [-5. -2. 14. -2.]\n",
      "Running reward for the 4 bandits: [-6. -2. 34. -1.]\n",
      "Running reward for the 4 bandits: [-5. -1. 42.  1.]\n",
      "Running reward for the 4 bandits: [-4.  0. 45.  0.]\n",
      "Running reward for the 4 bandits: [-4.  0. 41.  0.]\n",
      "Running reward for the 4 bandits: [-5.  2. 54.  0.]\n",
      "Running reward for the 4 bandits: [-5.  0. 70.  0.]\n",
      "Running reward for the 4 bandits: [-4.  1. 84.  0.]\n",
      "Running reward for the 4 bandits: [-4.  0. 92. -1.]\n",
      "Running reward for the 4 bandits: [-4.  1. 89. -3.]\n",
      "Running reward for the 4 bandits: [ -4.   0. 105.  -4.]\n",
      "Running reward for the 4 bandits: [ -5.  -1. 123.  -4.]\n",
      "Running reward for the 4 bandits: [ -5.  -2. 131.  -3.]\n",
      "Running reward for the 4 bandits: [ -6.  -4. 148.  -3.]\n",
      "Running reward for the 4 bandits: [ -5.  -4. 150.  -2.]\n",
      "Running reward for the 4 bandits: [ -6.  -3. 157.  -1.]\n",
      "Running reward for the 4 bandits: [ -6.  -3. 153.  -1.]\n",
      "The agent thinks bandit 3 is the most promising....\n",
      "...and it was right!\n"
     ]
    }
   ],
   "source": [
    "total_episodes = 1000 #Set total number of episodes to train agent on.\n",
    "total_reward = np.zeros(num_bandits) #Set scoreboard for bandits to 0.\n",
    "e = 0.1 #Set the chance of taking a random action.\n",
    "\n",
    "# init = tf.initialize_all_variables()\n",
    "init = tf.global_variables_initializer()\n",
    "\n",
    "# Launch the tensorflow graph\n",
    "with tf.Session() as sess:\n",
    "    sess.run(init)\n",
    "    i = 0\n",
    "    while i < total_episodes:\n",
    "        \n",
    "        # Choose either a random action or one from our network.\n",
    "        if np.random.rand(1) < e:\n",
    "            action = np.random.randint(num_bandits)\n",
    "        else:\n",
    "            action = sess.run(chosen_action)\n",
    "        \n",
    "        reward = pullBandit(bandits[action]) #Get our reward from picking one of the bandits.\n",
    "        \n",
    "        #Update the network.\n",
    "        _, resp, ww = sess.run(\n",
    "            [update, responsible_weight, weights], \n",
    "            feed_dict={reward_holder:[reward], action_holder:[action]})\n",
    "        \n",
    "        #Update our running tally of scores.\n",
    "        total_reward[action] += reward\n",
    "        if i % 50 == 0:\n",
    "            print(\"Running reward for the \" + str(num_bandits) + \" bandits: \" + str(total_reward))\n",
    "        i += 1\n",
    "print(\"The agent thinks bandit \" + str(np.argmax(ww)+1) + \" is the most promising....\")\n",
    "if np.argmax(ww) == np.argmax(-np.array(bandits)):\n",
    "    print(\"...and it was right!\")\n",
    "else:\n",
    "    print(\"...and it was wrong!\")"
   ]
  },
  {
   "cell_type": "code",
   "execution_count": null,
   "metadata": {},
   "outputs": [],
   "source": []
  }
 ],
 "metadata": {
  "kernelspec": {
   "display_name": "tensorflow",
   "language": "python",
   "name": "tf"
  },
  "language_info": {
   "codemirror_mode": {
    "name": "ipython",
    "version": 3
   },
   "file_extension": ".py",
   "mimetype": "text/x-python",
   "name": "python",
   "nbconvert_exporter": "python",
   "pygments_lexer": "ipython3",
   "version": "3.7.3"
  }
 },
 "nbformat": 4,
 "nbformat_minor": 2
}
